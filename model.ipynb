{
 "cells": [
  {
   "cell_type": "code",
   "execution_count": null,
   "metadata": {
    "autoscroll": "json-false",
    "collapsed": true,
    "ein.tags": [
     "worksheet-0"
    ],
    "slideshow": {
     "slide_type": "-"
    }
   },
   "outputs": [],
   "source": [
    "%matplotlib inline\n",
    "%config InlineBackend.figure_format='retina'\n",
    "\n",
    "import matplotlib.pyplot as plt\n",
    "plt.style.use('dark_background')"
   ]
  },
  {
   "cell_type": "code",
   "execution_count": null,
   "metadata": {
    "autoscroll": "json-false",
    "ein.tags": [
     "worksheet-0"
    ],
    "slideshow": {
     "slide_type": "-"
    }
   },
   "outputs": [],
   "source": [
    "from keras.callbacks import EarlyStopping\n",
    "from keras.layers import Flatten, Dense, Lambda, Cropping2D, Dropout\n",
    "from keras.layers.convolutional import Conv2D\n",
    "from keras.layers.normalization import BatchNormalization\n",
    "from keras.layers.pooling import MaxPooling2D\n",
    "from keras.models import Sequential\n",
    "from keras import regularizers\n",
    "from sklearn.model_selection import train_test_split\n",
    "import csv\n",
    "import cv2\n",
    "import matplotlib.pyplot as plt\n",
    "import numpy as np\n",
    "import os\n",
    "import random\n",
    "import sklearn"
   ]
  },
  {
   "cell_type": "code",
   "execution_count": null,
   "metadata": {
    "autoscroll": "json-false",
    "collapsed": true,
    "ein.tags": [
     "worksheet-0"
    ],
    "slideshow": {
     "slide_type": "-"
    }
   },
   "outputs": [],
   "source": [
    "samples = []\n",
    "for dir_name in os.listdir('data'):\n",
    "    with open(os.path.join('data', dir_name, 'driving_log.csv')) as csvfile:\n",
    "        reader = csv.reader(csvfile)\n",
    "        for line in reader:\n",
    "            for sample in zip(line[:3], [0, 0.2, -0.2]):\n",
    "                sample_path = os.path.join('data', dir_name, 'IMG', sample[0].split('\\\\')[-1])\n",
    "                sample_angle = float(line[3]) + sample[1]\n",
    "                samples.append({'path': sample_path, 'angle' : sample_angle, 'invert': False})\n",
    "\n",
    "train_samples, valid_samples = train_test_split(samples, test_size=0.2)\n",
    "\n",
    "augmented_samples = []\n",
    "for sample in train_samples:\n",
    "    augmented_samples.append(sample)\n",
    "    \n",
    "    sample = sample.copy()\n",
    "    sample['invert'] = True\n",
    "    augmented_samples.append(sample)\n",
    "\n",
    "def generator(samples, batch_size=256):\n",
    "    num_samples = len(samples)\n",
    "    while 1: # Loop forever so the generator never terminates\n",
    "        random.shuffle(samples)\n",
    "        for offset in range(0, num_samples, batch_size):\n",
    "            batch_samples = samples[offset:offset+batch_size]\n",
    "\n",
    "            images = []\n",
    "            angles = []\n",
    "            for batch_sample in batch_samples:\n",
    "                center_image = cv2.imread(batch_sample['path'])\n",
    "                center_angle = batch_sample['angle']\n",
    "                if sample['invert']:\n",
    "                    center_image = np.fliplr(center_image)\n",
    "                    center_angle = -center_angle\n",
    "                images.append(center_image)\n",
    "                angles.append(center_angle)\n",
    "\n",
    "            X_train = np.array(images)\n",
    "            y_train = np.array(angles)\n",
    "            yield sklearn.utils.shuffle(X_train, y_train)        \n",
    "\n",
    "train_generator = generator(augmented_samples)\n",
    "train_steps = len(augmented_samples) / 256\n",
    "            \n",
    "valid_generator = generator(valid_samples)\n",
    "valid_steps = len(valid_samples) / 256"
   ]
  },
  {
   "cell_type": "code",
   "execution_count": null,
   "metadata": {
    "autoscroll": "json-false",
    "collapsed": true,
    "ein.tags": [
     "worksheet-0"
    ],
    "slideshow": {
     "slide_type": "-"
    }
   },
   "outputs": [],
   "source": [
    "model = Sequential()\n",
    "\n",
    "model.add(Cropping2D(cropping=((70,25), (0,0)), input_shape=(160,320,3)))\n",
    "model.add(BatchNormalization())\n",
    "\n",
    "model.add(Conv2D(24, (5, 5), strides=(2, 2), activation='elu'))\n",
    "model.add(Conv2D(36, (5, 5), strides=(2, 2), activation='elu'))\n",
    "model.add(Conv2D(48, (5, 5), strides=(2, 2), activation='elu'))\n",
    "\n",
    "model.add(Conv2D(64, (3, 3), activation='elu'))\n",
    "model.add(Conv2D(64, (3, 3), activation='elu'))\n",
    "\n",
    "model.add(Flatten())\n",
    "\n",
    "model.add(Dropout(0.3))\n",
    "model.add(Dense(100, activation='elu'))\n",
    "model.add(Dropout(0.2))\n",
    "model.add(Dense(50, activation='elu'))\n",
    "model.add(Dropout(0.2))\n",
    "model.add(Dense(10, activation='elu'))\n",
    "model.add(Dense(1))\n",
    "\n",
    "model.compile(loss='mse', optimizer='adam')"
   ]
  },
  {
   "cell_type": "code",
   "execution_count": null,
   "metadata": {
    "autoscroll": "json-false",
    "ein.tags": [
     "worksheet-0"
    ],
    "slideshow": {
     "slide_type": "-"
    }
   },
   "outputs": [],
   "source": [
    "early_stopping = EarlyStopping(patience=0, verbose=1)\n",
    "\n",
    "history_object = model.fit_generator(train_generator, train_steps, validation_data=valid_generator,\n",
    "                                     validation_steps=valid_steps, epochs=3,\n",
    "                                     callbacks=[early_stopping])"
   ]
  },
  {
   "cell_type": "code",
   "execution_count": null,
   "metadata": {
    "autoscroll": "json-false",
    "collapsed": true,
    "ein.tags": [
     "worksheet-0"
    ],
    "slideshow": {
     "slide_type": "-"
    }
   },
   "outputs": [],
   "source": [
    "plt.plot(history_object.history['loss'])\n",
    "plt.plot(history_object.history['val_loss'])\n",
    "plt.title('model mean squared error loss')\n",
    "plt.ylabel('mean squared error loss')\n",
    "plt.xlabel('epoch')\n",
    "plt.legend(['training set', 'validation set'], loc='upper right')\n",
    "plt.show()"
   ]
  },
  {
   "cell_type": "code",
   "execution_count": null,
   "metadata": {
    "autoscroll": "json-false",
    "collapsed": true,
    "ein.tags": [
     "worksheet-0"
    ],
    "slideshow": {
     "slide_type": "-"
    }
   },
   "outputs": [],
   "source": [
    "model.save('model.h5')"
   ]
  },
  {
   "cell_type": "code",
   "execution_count": null,
   "metadata": {
    "autoscroll": "json-false",
    "collapsed": true,
    "ein.tags": [
     "worksheet-0"
    ],
    "slideshow": {
     "slide_type": "-"
    }
   },
   "outputs": [],
   "source": []
  }
 ],
 "metadata": {
  "kernelspec": {
   "display_name": "selfdrive",
   "language": "python",
   "name": "selfdrive"
  },
  "language_info": {
   "codemirror_mode": {
    "name": "ipython",
    "version": 3
   },
   "file_extension": ".py",
   "mimetype": "text/x-python",
   "name": "python",
   "nbconvert_exporter": "python",
   "pygments_lexer": "ipython3",
   "version": "3.6.0"
  },
  "name": "p3.ipynb"
 },
 "nbformat": 4,
 "nbformat_minor": 2
}
